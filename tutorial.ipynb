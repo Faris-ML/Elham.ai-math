{
 "cells": [
  {
   "cell_type": "markdown",
   "id": "b2f51c42",
   "metadata": {},
   "source": [
    "# Tutorial for auto differentiation package"
   ]
  },
  {
   "cell_type": "markdown",
   "id": "2a133b62",
   "metadata": {},
   "source": [
    "This package created by @Faris-ML"
   ]
  },
  {
   "cell_type": "markdown",
   "id": "0c8677c0",
   "metadata": {},
   "source": [
    "### How to differentiate automaticlly?\n",
    "\n",
    "The derivative is taken by going throuth the following steps:\n",
    "\n",
    "1- Define the equation by the package operator\n",
    "\n",
    "2- Create a graph\n",
    "\n",
    "3- compute the forward pass and backward pass"
   ]
  },
  {
   "cell_type": "markdown",
   "id": "f9ffd456",
   "metadata": {},
   "source": [
    "### Methodology:\n",
    "\n",
    "The way to be able to take derivative is to convert the equation to graph.\n",
    "\n",
    "example:\n",
    "\n",
    "let say that we want to evaluate this equation\n",
    "\n",
    "y = (x^2)+6\n",
    "\n",
    "after converting the equation to graph will be like this:\n",
    "\n",
    "![image](images/graph.png)\n",
    "\n",
    "and by the chain rule we compute the gradients by taking the backward pass like the graph below :\n",
    "\n",
    "![image](images/d_graph.png)\n",
    "\n",
    "## lets get started on implementation"
   ]
  },
  {
   "cell_type": "code",
   "execution_count": 19,
   "id": "46fa5884",
   "metadata": {},
   "outputs": [],
   "source": [
    "import Graph as g\n",
    "import Node as n"
   ]
  },
  {
   "cell_type": "markdown",
   "id": "40e5e23a",
   "metadata": {},
   "source": [
    "Define variables and constant"
   ]
  },
  {
   "cell_type": "code",
   "execution_count": 20,
   "id": "1c0889f4",
   "metadata": {},
   "outputs": [],
   "source": [
    "x = n.Variable(3,name='x')\n",
    "cons_1 = n.Constant(2,name='cons_1')\n",
    "cons_2 = n.Constant(6,name='cons_1')"
   ]
  },
  {
   "cell_type": "code",
   "execution_count": 31,
   "id": "636438cd",
   "metadata": {},
   "outputs": [],
   "source": [
    "y = n.add(n.power(x,cons_1),cons_2)\n",
    "for i in range(500):\n",
    "    y = n.add(n.power(x,cons_1),y)"
   ]
  },
  {
   "cell_type": "markdown",
   "id": "630ba58f",
   "metadata": {},
   "source": [
    "Create a graph"
   ]
  },
  {
   "cell_type": "code",
   "execution_count": 32,
   "id": "3d3c2258",
   "metadata": {},
   "outputs": [],
   "source": [
    "graph = g.Graph(y)"
   ]
  },
  {
   "cell_type": "code",
   "execution_count": 33,
   "id": "f5a618e6",
   "metadata": {},
   "outputs": [],
   "source": [
    "import time"
   ]
  },
  {
   "cell_type": "markdown",
   "id": "b39d10b5",
   "metadata": {},
   "source": [
    "Compute forward pass and backward pass"
   ]
  },
  {
   "cell_type": "code",
   "execution_count": 35,
   "id": "3dab9236",
   "metadata": {},
   "outputs": [
    {
     "name": "stdout",
     "output_type": "stream",
     "text": [
      "the forward pass :  4515\n",
      "the backward pass :  {'x': <Node.Variable object at 0x00000273CE50ED80>}\n",
      "as you see the backward pass return a dictionary that the key is variable name and the value is the variable object\n",
      "we can get the backward value or the gradients by using a grad attribute in the object : \n",
      "the derivative with respect to x is :  3006\n",
      "3.2634735107421875\n"
     ]
    }
   ],
   "source": [
    "s = time.time()\n",
    "forward = graph.forward()\n",
    "print('the forward pass : ',forward)\n",
    "backward = graph.backward(just_Variables=True)\n",
    "print('the backward pass : ',backward)\n",
    "print('as you see the backward pass return a dictionary that the key is variable name and the value is the variable object')\n",
    "print('we can get the backward value or the gradients by using a grad attribute in the object : ')\n",
    "print('the derivative with respect to x is : ',backward['x'].grad)\n",
    "e = time.time()\n",
    "print((e-s)*1000)"
   ]
  },
  {
   "cell_type": "code",
   "execution_count": null,
   "id": "807fc398",
   "metadata": {},
   "outputs": [],
   "source": []
  }
 ],
 "metadata": {
  "kernelspec": {
   "display_name": "Python 3",
   "language": "python",
   "name": "python3"
  },
  "language_info": {
   "codemirror_mode": {
    "name": "ipython",
    "version": 3
   },
   "file_extension": ".py",
   "mimetype": "text/x-python",
   "name": "python",
   "nbconvert_exporter": "python",
   "pygments_lexer": "ipython3",
   "version": "3.12.2"
  }
 },
 "nbformat": 4,
 "nbformat_minor": 5
}
